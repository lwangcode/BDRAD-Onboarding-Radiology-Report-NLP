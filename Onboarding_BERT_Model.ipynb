{
 "cells": [
  {
   "cell_type": "code",
   "execution_count": 96,
   "id": "6b87a8e9",
   "metadata": {},
   "outputs": [],
   "source": [
    "import torch\n",
    "from torch.utils.data import TensorDataset, DataLoader, RandomSampler, SequentialSampler\n",
    "from sklearn.model_selection import train_test_split\n",
    "from pytorch_pretrained_bert import BertTokenizer, BertConfig\n",
    "from pytorch_pretrained_bert import BertAdam, BertForSequenceClassification\n",
    "from tqdm import tqdm, trange\n",
    "import pandas as pd\n",
    "import numpy as np\n",
    "import matplotlib.pyplot as plt"
   ]
  },
  {
   "cell_type": "markdown",
   "id": "1e9feb66",
   "metadata": {},
   "source": [
    "References: \n",
    "- https://colab.research.google.com/drive/1ywsvwO6thOVOrfagjjfuxEf6xVRxbUNO#scrollTo=GuE5BqICAne2\n",
    "- https://colab.research.google.com/drive/1FT2ppZsOQx2HdPJ799ygW8EeTcVUwtAD\n",
    "- https://huggingface.co/docs/transformers/model_doc/bert"
   ]
  },
  {
   "cell_type": "markdown",
   "id": "800d0539",
   "metadata": {},
   "source": [
    "## Load data"
   ]
  },
  {
   "cell_type": "code",
   "execution_count": 97,
   "id": "e488d7f4",
   "metadata": {},
   "outputs": [],
   "source": [
    "reports_df = pd.read_csv(\"nlp_reports_data.csv\")"
   ]
  },
  {
   "cell_type": "code",
   "execution_count": 98,
   "id": "5331813a",
   "metadata": {},
   "outputs": [
    {
     "data": {
      "text/html": [
       "<div>\n",
       "<style scoped>\n",
       "    .dataframe tbody tr th:only-of-type {\n",
       "        vertical-align: middle;\n",
       "    }\n",
       "\n",
       "    .dataframe tbody tr th {\n",
       "        vertical-align: top;\n",
       "    }\n",
       "\n",
       "    .dataframe thead th {\n",
       "        text-align: right;\n",
       "    }\n",
       "</style>\n",
       "<table border=\"1\" class=\"dataframe\">\n",
       "  <thead>\n",
       "    <tr style=\"text-align: right;\">\n",
       "      <th></th>\n",
       "      <th>Unnamed: 0</th>\n",
       "      <th>id</th>\n",
       "      <th>findings</th>\n",
       "      <th>impression</th>\n",
       "      <th>full-text</th>\n",
       "      <th>label</th>\n",
       "    </tr>\n",
       "  </thead>\n",
       "  <tbody>\n",
       "    <tr>\n",
       "      <th>0</th>\n",
       "      <td>0</td>\n",
       "      <td>3103</td>\n",
       "      <td>Cardiomediastinal silhouette stable and unrema...</td>\n",
       "      <td>No acute cardiopulmonary abnormality..</td>\n",
       "      <td>Cardiomediastinal silhouette stable and unrema...</td>\n",
       "      <td>abnormal</td>\n",
       "    </tr>\n",
       "    <tr>\n",
       "      <th>1</th>\n",
       "      <td>1</td>\n",
       "      <td>588</td>\n",
       "      <td>The heart is normal in size and contour. There...</td>\n",
       "      <td>No acute cardiopulmonary abnormalities.</td>\n",
       "      <td>The heart is normal in size and contour. There...</td>\n",
       "      <td>normal</td>\n",
       "    </tr>\n",
       "    <tr>\n",
       "      <th>2</th>\n",
       "      <td>2</td>\n",
       "      <td>1332</td>\n",
       "      <td>NaN</td>\n",
       "      <td>Heart size is upper normal. Tortuous and calci...</td>\n",
       "      <td>Heart size is upper normal. Tortuous and calc...</td>\n",
       "      <td>abnormal</td>\n",
       "    </tr>\n",
       "    <tr>\n",
       "      <th>3</th>\n",
       "      <td>3</td>\n",
       "      <td>3749</td>\n",
       "      <td>Lungs are clear bilaterally. Cardiac and media...</td>\n",
       "      <td>No acute cardiopulmonary abnormality.</td>\n",
       "      <td>Lungs are clear bilaterally. Cardiac and media...</td>\n",
       "      <td>normal</td>\n",
       "    </tr>\n",
       "    <tr>\n",
       "      <th>4</th>\n",
       "      <td>4</td>\n",
       "      <td>3857</td>\n",
       "      <td>The cardiomediastinal silhouette is within nor...</td>\n",
       "      <td>1. No acute radiographic cardiopulmonary process.</td>\n",
       "      <td>The cardiomediastinal silhouette is within nor...</td>\n",
       "      <td>normal</td>\n",
       "    </tr>\n",
       "  </tbody>\n",
       "</table>\n",
       "</div>"
      ],
      "text/plain": [
       "   Unnamed: 0    id                                           findings  \\\n",
       "0           0  3103  Cardiomediastinal silhouette stable and unrema...   \n",
       "1           1   588  The heart is normal in size and contour. There...   \n",
       "2           2  1332                                                NaN   \n",
       "3           3  3749  Lungs are clear bilaterally. Cardiac and media...   \n",
       "4           4  3857  The cardiomediastinal silhouette is within nor...   \n",
       "\n",
       "                                          impression  \\\n",
       "0             No acute cardiopulmonary abnormality..   \n",
       "1            No acute cardiopulmonary abnormalities.   \n",
       "2  Heart size is upper normal. Tortuous and calci...   \n",
       "3              No acute cardiopulmonary abnormality.   \n",
       "4  1. No acute radiographic cardiopulmonary process.   \n",
       "\n",
       "                                           full-text     label  \n",
       "0  Cardiomediastinal silhouette stable and unrema...  abnormal  \n",
       "1  The heart is normal in size and contour. There...    normal  \n",
       "2   Heart size is upper normal. Tortuous and calc...  abnormal  \n",
       "3  Lungs are clear bilaterally. Cardiac and media...    normal  \n",
       "4  The cardiomediastinal silhouette is within nor...    normal  "
      ]
     },
     "execution_count": 98,
     "metadata": {},
     "output_type": "execute_result"
    }
   ],
   "source": [
    "reports_df.head()"
   ]
  },
  {
   "cell_type": "code",
   "execution_count": 99,
   "id": "0f7d1a62",
   "metadata": {},
   "outputs": [
    {
     "name": "stdout",
     "output_type": "stream",
     "text": [
      "Abnormal: 2469\n",
      "Normal: 1486\n"
     ]
    },
    {
     "data": {
      "image/png": "[encoded data removed]",
      "text/plain": [
       "<Figure size 640x480 with 1 Axes>"
      ]
     },
     "metadata": {},
     "output_type": "display_data"
    }
   ],
   "source": [
    "label_counts = reports_df.label.value_counts()\n",
    "print('Abnormal:', label_counts['abnormal'])\n",
    "print('Normal:', label_counts['normal'])\n",
    "label_counts.plot.bar();"
   ]
  },
  {
   "cell_type": "code",
   "execution_count": 72,
   "id": "39ef2d47",
   "metadata": {},
   "outputs": [],
   "source": [
    "# fix seed\n",
    "np.random.seed(2021)\n",
    "\n",
    "train_df, test_df = train_test_split(reports_df, test_size=0.15, stratify=reports_df.label.values)"
   ]
  },
  {
   "cell_type": "markdown",
   "id": "ac152b82",
   "metadata": {},
   "source": [
    "Compare the distribution of labels in the full dataset to the distribution in the test dataset. The distributions are similar."
   ]
  },
  {
   "cell_type": "code",
   "execution_count": 73,
   "id": "28a0925e",
   "metadata": {},
   "outputs": [
    {
     "name": "stdout",
     "output_type": "stream",
     "text": [
      "Test set size: 594\n",
      "Abnormal: 371\n",
      "Normal: 223\n"
     ]
    },
    {
     "data": {
      "image/png": "[encoded data removed]",
      "text/plain": [
       "<Figure size 640x480 with 1 Axes>"
      ]
     },
     "metadata": {},
     "output_type": "display_data"
    }
   ],
   "source": [
    "print('Test set size:', test_df.shape[0])\n",
    "test_counts = test_df.label.value_counts()\n",
    "print('Abnormal:', test_counts['abnormal'])\n",
    "print('Normal:', test_counts['normal'])\n",
    "test_counts.plot.bar();"
   ]
  },
  {
   "cell_type": "markdown",
   "id": "6715f7c1",
   "metadata": {},
   "source": [
    "Plot text length of each report"
   ]
  },
  {
   "cell_type": "code",
   "execution_count": 74,
   "id": "24e80ad1",
   "metadata": {},
   "outputs": [
    {
     "data": {
      "image/png": "[encoded data removed]",
      "text/plain": [
       "<Figure size 640x480 with 1 Axes>"
      ]
     },
     "metadata": {},
     "output_type": "display_data"
    },
    {
     "data": {
      "text/plain": [
       "1417.0"
      ]
     },
     "execution_count": 74,
     "metadata": {},
     "output_type": "execute_result"
    }
   ],
   "source": [
    "reports_df[\"text length\"] = reports_df[\"full-text\"].str.len()\n",
    "plt.hist(x=reports_df[\"text length\"])\n",
    "plt.xlabel(\"Text length\")\n",
    "plt.ylabel(\"Count\")\n",
    "plt.show()\n",
    "np.percentile(reports_df[\"text length\"], 100)"
   ]
  },
  {
   "cell_type": "code",
   "execution_count": 75,
   "id": "a4ef8bde",
   "metadata": {},
   "outputs": [],
   "source": [
    "MAX_LEN = 450"
   ]
  },
  {
   "cell_type": "code",
   "execution_count": 76,
   "id": "f5e7470d",
   "metadata": {},
   "outputs": [],
   "source": [
    "def pad_seq(input_lst, padding_val):\n",
    "    '''\n",
    "    Parameters\n",
    "        input_lst: list of lists to pad\n",
    "        padding_val: list length\n",
    "    Return\n",
    "        new_input_lst: input_lst with lengths truncated or padded so that they're equal to the padding_val\n",
    "    '''\n",
    "    new_input_lst = []\n",
    "    for lst in input_lst:\n",
    "        if len(lst) > padding_val:\n",
    "            #Truncate\n",
    "            lst = lst[:padding_val] \n",
    "        elif len(lst) < padding_val:\n",
    "            #Pad\n",
    "            lst.extend([0] * (padding_val - len(lst)))\n",
    "            \n",
    "        new_input_lst.append(lst)\n",
    "            \n",
    "    return new_input_lst   "
   ]
  },
  {
   "cell_type": "code",
   "execution_count": 77,
   "id": "0e4b89ba",
   "metadata": {},
   "outputs": [],
   "source": [
    "def prep_data(df):\n",
    "    '''\n",
    "    Parameters\n",
    "        df: data\n",
    "    Return\n",
    "        padded_input_ids: array of integers identifying input tokens to their index number in the BERT tokenizer vocabulary\n",
    "        attention_masks: array of 1s and 0s (1s for input tokens, 0s for padding tokens)\n",
    "        labels: array of 1s and 0s (for our data - 1s mean abnormal, 0s mean normal)\n",
    "    '''\n",
    "    sentences = df[\"full-text\"]\n",
    "\n",
    "    # Add special tokens at the beginning and end of each sentence\n",
    "    sentences = [\"[CLS] \" + sentence + \" [SEP]\" for sentence in sentences]\n",
    "    labels = df.label.values\n",
    "    \n",
    "    tokenizer = BertTokenizer.from_pretrained('bert-base-uncased', do_lower_case=True)\n",
    "    tokenized_texts = [tokenizer.tokenize(sent) for sent in sentences]\n",
    "    \n",
    "    # Convert the tokens to their index numbers in the BERT vocabulary\n",
    "    input_ids = [tokenizer.convert_tokens_to_ids(x) for x in tokenized_texts]\n",
    "    \n",
    "    padded_input_ids = pad_seq(input_ids, padding_val = MAX_LEN) \n",
    "    padded_labels = labels\n",
    "    \n",
    "    # Create attention masks\n",
    "    attention_masks = []\n",
    "\n",
    "    for seq in padded_input_ids:\n",
    "        seq_mask= [float(i>0) for i in seq]\n",
    "        attention_masks.append(seq_mask)\n",
    "        \n",
    "    labels = np.array([0 if x==\"normal\" else 1 for x in padded_labels])\n",
    "    \n",
    "    return padded_input_ids, attention_masks, labels"
   ]
  },
  {
   "cell_type": "markdown",
   "id": "c77f9290",
   "metadata": {},
   "source": [
    "## Train model"
   ]
  },
  {
   "cell_type": "code",
   "execution_count": 78,
   "id": "02f57351",
   "metadata": {},
   "outputs": [],
   "source": [
    "padded_input_ids, attention_masks, padded_labels = prep_data(train_df[:100]) #just do first 100"
   ]
  },
  {
   "cell_type": "code",
   "execution_count": 79,
   "id": "1b7df134",
   "metadata": {},
   "outputs": [],
   "source": [
    "# Split data into train and validation sets for training\n",
    "\n",
    "train_inputs, validation_inputs, train_labels, validation_labels = train_test_split(padded_input_ids, padded_labels, \n",
    "                                                            random_state=2018, test_size=0.1)\n",
    "train_masks, validation_masks, _, _ = train_test_split(attention_masks, padded_input_ids,\n",
    "                                             random_state=2018, test_size=0.1)"
   ]
  },
  {
   "cell_type": "code",
   "execution_count": 80,
   "id": "a16a9511",
   "metadata": {},
   "outputs": [
    {
     "name": "stderr",
     "output_type": "stream",
     "text": [
      "/var/folders/yg/cmnxf1bn3sd_4qxy18q6kdbw0000gn/T/ipykernel_19324/3829265911.py:7: DeprecationWarning: an integer is required (got type float).  Implicit conversion to integers using __int__ is deprecated, and may be removed in a future version of Python.\n",
      "  train_masks = torch.tensor(train_masks, dtype=torch.int64)\n",
      "/var/folders/yg/cmnxf1bn3sd_4qxy18q6kdbw0000gn/T/ipykernel_19324/3829265911.py:8: DeprecationWarning: an integer is required (got type float).  Implicit conversion to integers using __int__ is deprecated, and may be removed in a future version of Python.\n",
      "  validation_masks = torch.tensor(validation_masks, dtype=torch.int64)\n"
     ]
    }
   ],
   "source": [
    "# Convert data into torch tensors\n",
    "\n",
    "train_inputs = torch.tensor(train_inputs, dtype=torch.int64)\n",
    "validation_inputs = torch.tensor(validation_inputs, dtype=torch.int64)\n",
    "train_labels = torch.tensor(train_labels, dtype=torch.int64)\n",
    "validation_labels = torch.tensor(validation_labels, dtype=torch.int64)\n",
    "train_masks = torch.tensor(train_masks, dtype=torch.int64)\n",
    "validation_masks = torch.tensor(validation_masks, dtype=torch.int64)"
   ]
  },
  {
   "cell_type": "code",
   "execution_count": 81,
   "id": "247b2a5c",
   "metadata": {},
   "outputs": [],
   "source": [
    "# Select a batch size for training.\n",
    "batch_size = 32\n",
    "\n",
    "# Create an iterator of our data with torch DataLoader. \n",
    "train_data = TensorDataset(train_inputs, train_masks, train_labels)\n",
    "train_sampler = RandomSampler(train_data)\n",
    "train_dataloader = DataLoader(train_data, sampler=train_sampler, batch_size=batch_size)\n",
    "\n",
    "validation_data = TensorDataset(validation_inputs, validation_masks, validation_labels)\n",
    "validation_sampler = SequentialSampler(validation_data)\n",
    "validation_dataloader = DataLoader(validation_data, sampler=validation_sampler, batch_size=batch_size)"
   ]
  },
  {
   "cell_type": "code",
   "execution_count": 82,
   "id": "ffb4eb83",
   "metadata": {},
   "outputs": [],
   "source": [
    "# Load BertForSequenceClassification\n",
    "\n",
    "model = BertForSequenceClassification.from_pretrained(\"bert-base-uncased\", num_labels=2)\n",
    "\n",
    "param_optimizer = list(model.named_parameters())\n",
    "no_decay = ['bias', 'gamma', 'beta']\n",
    "optimizer_grouped_parameters = [\n",
    "    {'params': [p for n, p in param_optimizer if not any(nd in n for nd in no_decay)],\n",
    "     'weight_decay_rate': 0.01},\n",
    "    {'params': [p for n, p in param_optimizer if any(nd in n for nd in no_decay)],\n",
    "     'weight_decay_rate': 0.0}\n",
    "]"
   ]
  },
  {
   "cell_type": "code",
   "execution_count": 83,
   "id": "a681d0fc",
   "metadata": {},
   "outputs": [
    {
     "name": "stderr",
     "output_type": "stream",
     "text": [
      "t_total value of -1 results in schedule not being applied\n"
     ]
    }
   ],
   "source": [
    "# This variable contains all of the hyperparemeter information our training loop needs\n",
    "optimizer = BertAdam(optimizer_grouped_parameters,\n",
    "                     lr=2e-5,\n",
    "                     warmup=.1)"
   ]
  },
  {
   "cell_type": "code",
   "execution_count": 84,
   "id": "0071abac",
   "metadata": {},
   "outputs": [],
   "source": [
    "# Function to calculate the accuracy of our predictions vs labels\n",
    "def flat_accuracy(preds, labels):\n",
    "    pred_flat = np.argmax(preds, axis=1).flatten()\n",
    "    labels_flat = labels.flatten()\n",
    "    return np.sum(pred_flat == labels_flat) / len(labels_flat)"
   ]
  },
  {
   "cell_type": "code",
   "execution_count": 85,
   "id": "629b5d58",
   "metadata": {},
   "outputs": [],
   "source": [
    "device = torch.device('cuda' if torch.cuda.is_available() else 'cpu')"
   ]
  },
  {
   "cell_type": "code",
   "execution_count": 86,
   "id": "395ebfd8",
   "metadata": {},
   "outputs": [
    {
     "name": "stderr",
     "output_type": "stream",
     "text": [
      "\r",
      "Epoch:   0%|                                              | 0/4 [00:00<?, ?it/s]"
     ]
    },
    {
     "name": "stdout",
     "output_type": "stream",
     "text": [
      "Train loss: 0.6815311908721924\n",
      "0 ,  0\n"
     ]
    },
    {
     "name": "stderr",
     "output_type": "stream",
     "text": [
      "\r",
      "Epoch:  25%|█████████▎                           | 1/4 [12:03<36:09, 723.04s/it]"
     ]
    },
    {
     "name": "stdout",
     "output_type": "stream",
     "text": [
      "Validation Accuracy: 0.6\n",
      "Train loss: 0.5750696063041687\n",
      "0 ,  0\n"
     ]
    },
    {
     "name": "stderr",
     "output_type": "stream",
     "text": [
      "\r",
      "Epoch:  50%|██████████████████▌                  | 2/4 [23:53<23:50, 715.46s/it]"
     ]
    },
    {
     "name": "stdout",
     "output_type": "stream",
     "text": [
      "Validation Accuracy: 0.7\n",
      "Train loss: 0.5726120372613271\n",
      "0 ,  0\n"
     ]
    },
    {
     "name": "stderr",
     "output_type": "stream",
     "text": [
      "\r",
      "Epoch:  75%|███████████████████████████▊         | 3/4 [35:38<11:50, 710.85s/it]"
     ]
    },
    {
     "name": "stdout",
     "output_type": "stream",
     "text": [
      "Validation Accuracy: 0.8\n",
      "Train loss: 0.43163002530733746\n",
      "0 ,  0\n"
     ]
    },
    {
     "name": "stderr",
     "output_type": "stream",
     "text": [
      "Epoch: 100%|█████████████████████████████████████| 4/4 [47:19<00:00, 709.88s/it]"
     ]
    },
    {
     "name": "stdout",
     "output_type": "stream",
     "text": [
      "Validation Accuracy: 0.8\n"
     ]
    },
    {
     "name": "stderr",
     "output_type": "stream",
     "text": [
      "\n"
     ]
    }
   ],
   "source": [
    "t = [] \n",
    "train_loss_set = []\n",
    "epochs = 4\n",
    "\n",
    "for _ in trange(epochs, desc=\"Epoch\"):\n",
    "\n",
    "    # Training\n",
    "\n",
    "    model.train()\n",
    "\n",
    "    # Tracking variables\n",
    "    tr_loss = 0\n",
    "    nb_tr_examples, nb_tr_steps = 0, 0\n",
    "\n",
    "    # Train the data for one epoch\n",
    "    for step, batch in enumerate(train_dataloader):\n",
    "        # Add batch to GPU\n",
    "        batch = tuple(t.to(device) for t in batch)\n",
    "        # Unpack the inputs from our dataloader\n",
    "        b_input_ids, b_input_mask, b_labels = batch\n",
    "        # Clear out the gradients (by default they accumulate)\n",
    "        optimizer.zero_grad()\n",
    "        # Forward pass\n",
    "        loss = model(b_input_ids, token_type_ids=None, attention_mask=b_input_mask, labels=b_labels)\n",
    "        train_loss_set.append(loss.item())  \n",
    "        \n",
    "        # Backward pass\n",
    "        loss.backward()\n",
    "        # Update parameters and take a step using the computed gradient\n",
    "        optimizer.step()\n",
    "\n",
    "\n",
    "        # Update tracking variables\n",
    "        tr_loss += loss.item()\n",
    "        nb_tr_examples += b_input_ids.size(0)\n",
    "        nb_tr_steps += 1\n",
    "\n",
    "    print(\"Train loss: {}\".format(tr_loss/nb_tr_steps))\n",
    "\n",
    "\n",
    "    # Validation\n",
    "\n",
    "    # Evaluate loss on the validation set\n",
    "    model.eval()\n",
    "\n",
    "    # Tracking variables \n",
    "    eval_loss, eval_accuracy = 0, 0\n",
    "    nb_eval_steps, nb_eval_examples = 0, 0\n",
    "\n",
    "    # Evaluate data for one epoch\n",
    "    for batch in validation_dataloader:\n",
    "        print(eval_loss, \", \", eval_accuracy)\n",
    "        # Add batch to GPU\n",
    "        batch = tuple(t.to(device) for t in batch)\n",
    "        # Unpack the inputs from our dataloader\n",
    "        b_input_ids, b_input_mask, b_labels = batch\n",
    "        # Telling the model not to compute or store gradients, saving memory and speeding up validation\n",
    "        with torch.no_grad():\n",
    "        # Forward pass, calculate logit predictions\n",
    "            logits = model(b_input_ids, token_type_ids=None, attention_mask=b_input_mask)\n",
    "\n",
    "        # Move logits and labels to CPU\n",
    "        logits = logits.detach().cpu().numpy()\n",
    "        label_ids = b_labels.to('cpu').numpy()\n",
    "\n",
    "        tmp_eval_accuracy = flat_accuracy(logits, label_ids)\n",
    "\n",
    "        eval_accuracy += tmp_eval_accuracy\n",
    "        nb_eval_steps += 1\n",
    "\n",
    "    print(\"Validation Accuracy: {}\".format(eval_accuracy/nb_eval_steps))\n",
    "    \n",
    "torch.save(model.state_dict(), 'bert_reports_model.pt')"
   ]
  },
  {
   "cell_type": "markdown",
   "id": "0246f246",
   "metadata": {},
   "source": [
    "Plot training loss over every batch"
   ]
  },
  {
   "cell_type": "code",
   "execution_count": 87,
   "id": "05ac6e21",
   "metadata": {},
   "outputs": [
    {
     "data": {
      "image/png": "[encoded data removed]",
      "text/plain": [
       "<Figure size 1500x800 with 1 Axes>"
      ]
     },
     "metadata": {},
     "output_type": "display_data"
    }
   ],
   "source": [
    "plt.figure(figsize=(15,8))\n",
    "plt.title(\"Training loss\")\n",
    "plt.xlabel(\"Batch\")\n",
    "plt.ylabel(\"Loss\")\n",
    "plt.plot(train_loss_set)\n",
    "plt.show()"
   ]
  },
  {
   "cell_type": "markdown",
   "id": "920fa54e",
   "metadata": {},
   "source": [
    "## Test and evaluate model"
   ]
  },
  {
   "cell_type": "code",
   "execution_count": 88,
   "id": "70182ff3",
   "metadata": {},
   "outputs": [],
   "source": [
    "test_padded_input_ids, test_attention_masks, test_padded_labels = prep_data(test_df)"
   ]
  },
  {
   "cell_type": "code",
   "execution_count": 89,
   "id": "cbd87a4f",
   "metadata": {},
   "outputs": [
    {
     "name": "stderr",
     "output_type": "stream",
     "text": [
      "/var/folders/yg/cmnxf1bn3sd_4qxy18q6kdbw0000gn/T/ipykernel_19324/3093415169.py:2: DeprecationWarning: an integer is required (got type float).  Implicit conversion to integers using __int__ is deprecated, and may be removed in a future version of Python.\n",
      "  prediction_masks = torch.tensor(test_attention_masks, dtype=torch.int64)\n"
     ]
    }
   ],
   "source": [
    "prediction_inputs = torch.tensor(test_padded_input_ids, dtype=torch.int64)\n",
    "prediction_masks = torch.tensor(test_attention_masks, dtype=torch.int64)\n",
    "prediction_labels = torch.tensor(test_labels_int, dtype=torch.int64)\n",
    "  \n",
    "batch_size = 32  "
   ]
  },
  {
   "cell_type": "code",
   "execution_count": 90,
   "id": "cca56d9b",
   "metadata": {},
   "outputs": [],
   "source": [
    "prediction_data = TensorDataset(prediction_inputs, prediction_masks, prediction_labels)\n",
    "prediction_sampler = SequentialSampler(prediction_data)\n",
    "prediction_dataloader = DataLoader(prediction_data, sampler=prediction_sampler, batch_size=batch_size)"
   ]
  },
  {
   "cell_type": "code",
   "execution_count": 91,
   "id": "f0c2ad3b",
   "metadata": {},
   "outputs": [],
   "source": [
    "# Prediction on test set\n",
    "\n",
    "model.eval()\n",
    "\n",
    "# Tracking variables \n",
    "predictions , true_labels = [], []\n",
    "\n",
    "# Predict \n",
    "for batch in prediction_dataloader:\n",
    "    # Add batch to GPU\n",
    "    batch = tuple(t.to(device) for t in batch)\n",
    "    # Unpack the inputs from our dataloader\n",
    "    b_input_ids, b_input_mask, b_labels = batch\n",
    "    # Telling the model not to compute or store gradients, saving memory and speeding up prediction\n",
    "    with torch.no_grad():\n",
    "    # Forward pass, calculate logit predictions\n",
    "        logits = model(b_input_ids, token_type_ids=None, attention_mask=b_input_mask)\n",
    "\n",
    "    # Move logits and labels to CPU\n",
    "    logits = logits.detach().cpu().numpy()\n",
    "    label_ids = b_labels.to('cpu').numpy()\n",
    "\n",
    "    # Store predictions and true labels\n",
    "    predictions.append(logits)\n",
    "    true_labels.append(label_ids)"
   ]
  },
  {
   "cell_type": "markdown",
   "id": "b4bb7736",
   "metadata": {},
   "source": [
    "Evaluate a final score for each batch"
   ]
  },
  {
   "cell_type": "code",
   "execution_count": 92,
   "id": "aaec3b8a",
   "metadata": {},
   "outputs": [],
   "source": [
    "# Import and evaluate each test batch using Matthew's correlation coefficient\n",
    "from sklearn.metrics import matthews_corrcoef\n",
    "matthews_set = []\n",
    "\n",
    "for i in range(len(true_labels)):\n",
    "    matthews = matthews_corrcoef(true_labels[i], np.argmax(predictions[i], axis=1).flatten())\n",
    "    matthews_set.append(matthews)"
   ]
  },
  {
   "cell_type": "code",
   "execution_count": 93,
   "id": "0e875d54",
   "metadata": {},
   "outputs": [
    {
     "data": {
      "text/plain": [
       "[0.5633234713140696,\n",
       " 0.5555555555555556,\n",
       " 0.3333333333333333,\n",
       " 0.45693676673168776,\n",
       " 0.3394221166510653,\n",
       " 0.19377278632539327,\n",
       " 0.3216337604513384,\n",
       " 0.28365431446558775,\n",
       " 0.38297084310253526,\n",
       " 0.23186944788008415,\n",
       " 0.23186944788008415,\n",
       " 0.7848566748139434,\n",
       " 0.5606119105813882,\n",
       " 0.38297084310253526,\n",
       " 0.17054221752815663,\n",
       " 0.17054221752815663,\n",
       " 0.38331077069024155,\n",
       " 0.0,\n",
       " 0.2711630722733202]"
      ]
     },
     "execution_count": 93,
     "metadata": {},
     "output_type": "execute_result"
    }
   ],
   "source": [
    "matthews_set"
   ]
  },
  {
   "cell_type": "markdown",
   "id": "e7a18fbe",
   "metadata": {},
   "source": [
    "Evaluate a final score for the entire test dataset"
   ]
  },
  {
   "cell_type": "code",
   "execution_count": 94,
   "id": "082b414f",
   "metadata": {},
   "outputs": [],
   "source": [
    "# Flatten the predictions and true values for aggregate Matthew's evaluation on the whole dataset\n",
    "flat_predictions = [item for sublist in predictions for item in sublist]\n",
    "flat_predictions = np.argmax(flat_predictions, axis=1).flatten()\n",
    "flat_true_labels = [item for sublist in true_labels for item in sublist]"
   ]
  },
  {
   "cell_type": "code",
   "execution_count": 95,
   "id": "2b6ee918",
   "metadata": {},
   "outputs": [
    {
     "data": {
      "text/plain": [
       "0.3774431377609275"
      ]
     },
     "execution_count": 95,
     "metadata": {},
     "output_type": "execute_result"
    }
   ],
   "source": [
    "matthews_corrcoef(flat_true_labels, flat_predictions)"
   ]
  }
 ],
 "metadata": {
  "kernelspec": {
   "display_name": "Python 3 (ipykernel)",
   "language": "python",
   "name": "python3"
  },
  "language_info": {
   "codemirror_mode": {
    "name": "ipython",
    "version": 3
   },
   "file_extension": ".py",
   "mimetype": "text/x-python",
   "name": "python",
   "nbconvert_exporter": "python",
   "pygments_lexer": "ipython3",
   "version": "3.9.13"
  }
 },
 "nbformat": 4,
 "nbformat_minor": 5
}
